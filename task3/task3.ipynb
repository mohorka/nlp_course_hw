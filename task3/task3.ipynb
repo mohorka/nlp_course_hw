{
 "cells": [
  {
   "cell_type": "code",
   "execution_count": 2,
   "metadata": {},
   "outputs": [
    {
     "name": "stderr",
     "output_type": "stream",
     "text": [
      "/Users/victoria/Documents/nlp_course_hw/.venv/lib/python3.11/site-packages/tqdm/auto.py:21: TqdmWarning: IProgress not found. Please update jupyter and ipywidgets. See https://ipywidgets.readthedocs.io/en/stable/user_install.html\n",
      "  from .autonotebook import tqdm as notebook_tqdm\n"
     ]
    }
   ],
   "source": [
    "import torch\n",
    "from transformers import pipeline"
   ]
  },
  {
   "cell_type": "code",
   "execution_count": 96,
   "metadata": {},
   "outputs": [],
   "source": [
    "pipe = pipeline(\"text-generation\", model=\"TinyLlama/TinyLlama-1.1B-Chat-v1.0\", torch_dtype=torch.float16, device_map=\"auto\")"
   ]
  },
  {
   "cell_type": "code",
   "execution_count": 97,
   "metadata": {},
   "outputs": [
    {
     "name": "stdout",
     "output_type": "stream",
     "text": [
      "For a given sentence, create a set of extended sentences with approximately the same meaning. Your answer should contains only numbered list of these extended sentences. For example, user message: After your workout, remember to focus on maintaining a good water balance. Your answer: 1.Remember to drink enough water to restore and maintain your body's hydration after your cardio training. 2.Please don't forget to maintain water balance after workout.\n"
     ]
    }
   ],
   "source": [
    "system_content =  (\"For a given sentence, create a set of extended sentences with approximately the same meaning. \"\n",
    "                \"Your answer should contains only numbered list of these extended sentences. \"\n",
    "                \"For example, \"\n",
    "                \"user message: After your workout, remember to focus on maintaining a good water balance. \"\n",
    "                \"Your answer: 1.Remember to drink enough water to restore and maintain your body's hydration after your cardio training. \"\n",
    "                \"2.Please don't forget to maintain water balance after workout.\")\n",
    "print(system_content)"
   ]
  },
  {
   "cell_type": "code",
   "execution_count": 98,
   "metadata": {},
   "outputs": [],
   "source": [
    "user_content = \"A good night's sleep helps improve your mood, increase concentration and improve memory.\""
   ]
  },
  {
   "cell_type": "code",
   "execution_count": 99,
   "metadata": {},
   "outputs": [],
   "source": [
    "messages = [\n",
    "    {\n",
    "        \"role\": \"system\",\n",
    "        \"content\":  system_content,\n",
    "    },\n",
    "    {\"role\": \"user\", \"content\": user_content},\n",
    "]"
   ]
  },
  {
   "cell_type": "code",
   "execution_count": 100,
   "metadata": {},
   "outputs": [],
   "source": [
    "prompt = pipe.tokenizer.apply_chat_template(messages, tokenize=False, add_generation_prompt=True)\n",
    "\n",
    "outputs = pipe(prompt, max_new_tokens=200, do_sample=True, temperature=0.7, top_k=50, top_p=0.95)"
   ]
  },
  {
   "cell_type": "code",
   "execution_count": 101,
   "metadata": {},
   "outputs": [],
   "source": [
    "generated_text = outputs[0][\"generated_text\"]"
   ]
  },
  {
   "cell_type": "code",
   "execution_count": 102,
   "metadata": {},
   "outputs": [
    {
     "name": "stdout",
     "output_type": "stream",
     "text": [
      "<|system|>\n",
      "For a given sentence, create a set of extended sentences with approximately the same meaning. Your answer should contains only numbered list of these extended sentences. For example, user message: After your workout, remember to focus on maintaining a good water balance. Your answer: 1.Remember to drink enough water to restore and maintain your body's hydration after your cardio training. 2.Please don't forget to maintain water balance after workout.</s>\n",
      "<|user|>\n",
      "A good night's sleep helps improve your mood, increase concentration and improve memory.</s>\n",
      "<|assistant|>\n",
      "Sentence: A good night's sleep helps improve your mood, increases concentration, and improves memory.\n",
      "\n",
      "1. Remember to get enough restful sleep to help your brain function at its best.\n",
      "2. Make sleep a priority in your routine.\n",
      "3. Keep your bedroom cool and dark to promote better sleep.\n",
      "4. Avoid caffeine and alcohol before bedtime.\n",
      "5. Establish a consistent bedtime routine to help your body and mind relax.\n",
      "6. Use a sleep-inducing app or light therapy device to promote better sleep.\n",
      "7. Avoid daytime naps that can disrupt your sleep schedule.\n",
      "8. Create a relaxing bedtime routine, such as reading or listening to music, to help you wind down.\n",
      "9. Don't forget to establish a consistent sleep schedule.\n",
      "10. Limit alcohol and caffeine intake before bedtime\n"
     ]
    }
   ],
   "source": [
    "print(generated_text)"
   ]
  },
  {
   "cell_type": "code",
   "execution_count": 106,
   "metadata": {},
   "outputs": [
    {
     "name": "stdout",
     "output_type": "stream",
     "text": [
      "\n",
      "For a given sentence, create a set of extended sentences with approximately the same meaning. Your answer should contains only numbered list of these extended sentences. For example, user message: After your workout, remember to focus on maintaining a good water balance. Your answer: 1.Remember to drink enough water to restore and maintain your body's hydration after your cardio training. 2.Please don't forget to maintain water balance after workout.</s>\n",
      "\n",
      "A good night's sleep helps improve your mood, increase concentration and improve memory.</s>\n",
      "\n",
      "Sentence: A good night's sleep helps improve your mood, increases concentration, and improves memory.\n",
      "\n",
      "1. Remember to get enough restful sleep to help your brain function at its best.\n",
      "2. Make sleep a priority in your routine.\n",
      "3. Keep your bedroom cool and dark to promote better sleep.\n",
      "4. Avoid caffeine and alcohol before bedtime.\n",
      "5. Establish a consistent bedtime routine to help your body and mind relax.\n",
      "6. Use a sleep-inducing app or light therapy device to promote better sleep.\n",
      "7. Avoid daytime naps that can disrupt your sleep schedule.\n",
      "8. Create a relaxing bedtime routine, such as reading or listening to music, to help you wind down.\n",
      "9. Don't forget to establish a consistent sleep schedule.\n",
      "10. Limit alcohol and caffeine intake before bedtime\n"
     ]
    }
   ],
   "source": [
    "text = generated_text.replace(\"<|system|>\", \"\")\n",
    "text = text.replace(\"<|user|>\", \"\")\n",
    "text = text.replace(\"<|assistant|>\", \"\")\n",
    "print(text)"
   ]
  },
  {
   "cell_type": "code",
   "execution_count": 121,
   "metadata": {},
   "outputs": [
    {
     "name": "stdout",
     "output_type": "stream",
     "text": [
      "\n",
      "</s>\n",
      "\n",
      "A good night's sleep helps improve your mood, increase concentration and improve memory.</s>\n",
      "\n",
      "Sentence: A good night's sleep helps improve your mood, increases concentration, and improves memory.\n",
      "\n",
      "1. Remember to get enough restful sleep to help your brain function at its best.\n",
      "2. Make sleep a priority in your routine.\n",
      "3. Keep your bedroom cool and dark to promote better sleep.\n",
      "4. Avoid caffeine and alcohol before bedtime.\n",
      "5. Establish a consistent bedtime routine to help your body and mind relax.\n",
      "6. Use a sleep-inducing app or light therapy device to promote better sleep.\n",
      "7. Avoid daytime naps that can disrupt your sleep schedule.\n",
      "8. Create a relaxing bedtime routine, such as reading or listening to music, to help you wind down.\n",
      "9. Don't forget to establish a consistent sleep schedule.\n",
      "10. Limit alcohol and caffeine intake before bedtime\n"
     ]
    }
   ],
   "source": [
    "remove_system_prompt = text.replace(system_content,\"\")\n",
    "print(remove_system_prompt)"
   ]
  },
  {
   "cell_type": "code",
   "execution_count": 122,
   "metadata": {},
   "outputs": [
    {
     "name": "stdout",
     "output_type": "stream",
     "text": [
      "A good night's sleep helps improve your mood, increase concentration and improve memory.Sentence: A good night's sleep helps improve your mood, increases concentration, and improves memory.1. Remember to get enough restful sleep to help your brain function at its best.2. Make sleep a priority in your routine.3. Keep your bedroom cool and dark to promote better sleep.4. Avoid caffeine and alcohol before bedtime.5. Establish a consistent bedtime routine to help your body and mind relax.6. Use a sleep-inducing app or light therapy device to promote better sleep.7. Avoid daytime naps that can disrupt your sleep schedule.8. Create a relaxing bedtime routine, such as reading or listening to music, to help you wind down.9. Don't forget to establish a consistent sleep schedule.10. Limit alcohol and caffeine intake before bedtime\n"
     ]
    }
   ],
   "source": [
    "cleaned = remove_system_prompt.replace(\"\\n\",\"\")\n",
    "cleaned = cleaned.replace(\"</s>\",\"\")\n",
    "print(cleaned)"
   ]
  },
  {
   "cell_type": "code",
   "execution_count": 123,
   "metadata": {},
   "outputs": [
    {
     "name": "stdout",
     "output_type": "stream",
     "text": [
      "A good night's sleep helps improve your mood, increase concentration and improve memory.Sentence: A good night's sleep helps improve your mood, increases concentration, and improves memory.Remember to get enough restful sleep to help your brain function at its best.Make sleep a priority in your routine.Keep your bedroom cool and dark to promote better sleep.Avoid caffeine and alcohol before bedtime.Establish a consistent bedtime routine to help your body and mind relax.Use a sleep-inducing app or light therapy device to promote better sleep.Avoid daytime naps that can disrupt your sleep schedule.Create a relaxing bedtime routine, such as reading or listening to music, to help you wind down.Don't forget to establish a consistent sleep schedule.Limit alcohol and caffeine intake before bedtime\n"
     ]
    }
   ],
   "source": [
    "import re\n",
    "rm_list = re.sub(r'[0-9]+. ', '', cleaned)\n",
    "print(rm_list)"
   ]
  },
  {
   "cell_type": "code",
   "execution_count": 127,
   "metadata": {},
   "outputs": [],
   "source": [
    "sentences = rm_list.split(\".\")\n",
    "meanful = []\n",
    "for sentence in sentences:\n",
    "    if len(sentence.split()) > 2:\n",
    "        meanful.append(sentence)"
   ]
  },
  {
   "cell_type": "code",
   "execution_count": 128,
   "metadata": {},
   "outputs": [
    {
     "data": {
      "text/plain": [
       "[\"A good night's sleep helps improve your mood, increase concentration and improve memory\",\n",
       " \"Sentence: A good night's sleep helps improve your mood, increases concentration, and improves memory\",\n",
       " 'Remember to get enough restful sleep to help your brain function at its best',\n",
       " 'Make sleep a priority in your routine',\n",
       " 'Keep your bedroom cool and dark to promote better sleep',\n",
       " 'Avoid caffeine and alcohol before bedtime',\n",
       " 'Establish a consistent bedtime routine to help your body and mind relax',\n",
       " 'Use a sleep-inducing app or light therapy device to promote better sleep',\n",
       " 'Avoid daytime naps that can disrupt your sleep schedule',\n",
       " 'Create a relaxing bedtime routine, such as reading or listening to music, to help you wind down',\n",
       " \"Don't forget to establish a consistent sleep schedule\",\n",
       " 'Limit alcohol and caffeine intake before bedtime']"
      ]
     },
     "execution_count": 128,
     "metadata": {},
     "output_type": "execute_result"
    }
   ],
   "source": [
    "meanful"
   ]
  },
  {
   "cell_type": "code",
   "execution_count": 129,
   "metadata": {},
   "outputs": [
    {
     "data": {
      "text/plain": [
       "['Remember to get enough restful sleep to help your brain function at its best',\n",
       " 'Make sleep a priority in your routine',\n",
       " 'Keep your bedroom cool and dark to promote better sleep',\n",
       " 'Avoid caffeine and alcohol before bedtime',\n",
       " 'Establish a consistent bedtime routine to help your body and mind relax',\n",
       " 'Use a sleep-inducing app or light therapy device to promote better sleep',\n",
       " 'Avoid daytime naps that can disrupt your sleep schedule',\n",
       " 'Create a relaxing bedtime routine, such as reading or listening to music, to help you wind down',\n",
       " \"Don't forget to establish a consistent sleep schedule\",\n",
       " 'Limit alcohol and caffeine intake before bedtime']"
      ]
     },
     "execution_count": 129,
     "metadata": {},
     "output_type": "execute_result"
    }
   ],
   "source": [
    "best_cases = meanful[2:]\n",
    "best_cases"
   ]
  },
  {
   "cell_type": "code",
   "execution_count": 135,
   "metadata": {},
   "outputs": [
    {
     "name": "stderr",
     "output_type": "stream",
     "text": [
      "Some weights of the model checkpoint at distilroberta-base were not used when initializing RobertaForMaskedLM: ['roberta.pooler.dense.weight', 'roberta.pooler.dense.bias']\n",
      "- This IS expected if you are initializing RobertaForMaskedLM from the checkpoint of a model trained on another task or with another architecture (e.g. initializing a BertForSequenceClassification model from a BertForPreTraining model).\n",
      "- This IS NOT expected if you are initializing RobertaForMaskedLM from the checkpoint of a model that you expect to be exactly identical (initializing a BertForSequenceClassification model from a BertForSequenceClassification model).\n"
     ]
    }
   ],
   "source": [
    "mask_pipe = pipeline(\"fill-mask\", model=\"distilroberta-base\")\n"
   ]
  },
  {
   "cell_type": "code",
   "execution_count": 143,
   "metadata": {},
   "outputs": [],
   "source": [
    "from random import shuffle, choice"
   ]
  },
  {
   "cell_type": "code",
   "execution_count": 145,
   "metadata": {},
   "outputs": [],
   "source": [
    "def mask_sentence(sentence: str) -> str:\n",
    "    mask = '<mask>'\n",
    "    words = sentence.split()\n",
    "    words = [word for word in words if len(word) > 3]\n",
    "    shuffle(words)\n",
    "    masked_candidate = choice(words)\n",
    "    masked = sentence.replace(masked_candidate, mask, 1)\n",
    "    return masked"
   ]
  },
  {
   "cell_type": "code",
   "execution_count": 155,
   "metadata": {},
   "outputs": [],
   "source": [
    "potential = []\n",
    "for sentence in best_cases:\n",
    "    masked = mask_sentence(sentence)\n",
    "    output = mask_pipe(masked)\n",
    "    output = output[:2]\n",
    "    sequences = [response[\"sequence\"] for response in output]\n",
    "    potential.append(sequences)\n",
    "    \n",
    "    "
   ]
  },
  {
   "cell_type": "code",
   "execution_count": 156,
   "metadata": {},
   "outputs": [
    {
     "data": {
      "text/plain": [
       "[['Remember to get enough restful sleep to help your brain function at its best',\n",
       "  'Remember to get enough restful meals to help your brain function at its best'],\n",
       " ['Make sleep a priority in your routine',\n",
       "  'Make sleep a factor in your routine'],\n",
       " ['Keep your bedroom cool and dark to ensure better sleep',\n",
       "  'Keep your bedroom cool and dark to get better sleep'],\n",
       " ['Avoid caffeine and alcohol before bedtime',\n",
       "  'Limit caffeine and alcohol before bedtime'],\n",
       " ['Develop a consistent bedtime routine to help your body and mind relax',\n",
       "  'Create a consistent bedtime routine to help your body and mind relax'],\n",
       " ['Use a sleep-inducing app or sleep therapy device to promote better sleep',\n",
       "  'Use a sleep-inducing app or relaxation therapy device to promote better sleep'],\n",
       " ['Avoid daytime naps that can disrupt your sleep schedule',\n",
       "  'Avoid daytime naps which can disrupt your sleep schedule'],\n",
       " ['Create a relaxing bedtime routine, such as reading or listening to music, to help you wind down',\n",
       "  'Create a relaxing bedtime routine, such as reading or dancing to music, to help you wind down'],\n",
       " [\"Don't forget to establish a proper sleep schedule\",\n",
       "  \"Don't forget to establish a consistent sleep schedule\"],\n",
       " ['Limit alcohol and caffeine intake before bedtime',\n",
       "  'Limit alcohol and caffeine consumption before bedtime']]"
      ]
     },
     "execution_count": 156,
     "metadata": {},
     "output_type": "execute_result"
    }
   ],
   "source": [
    "potential"
   ]
  }
 ],
 "metadata": {
  "kernelspec": {
   "display_name": ".venv",
   "language": "python",
   "name": "python3"
  },
  "language_info": {
   "codemirror_mode": {
    "name": "ipython",
    "version": 3
   },
   "file_extension": ".py",
   "mimetype": "text/x-python",
   "name": "python",
   "nbconvert_exporter": "python",
   "pygments_lexer": "ipython3",
   "version": "3.11.3"
  }
 },
 "nbformat": 4,
 "nbformat_minor": 2
}
